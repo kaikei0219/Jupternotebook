{
 "cells": [
  {
   "cell_type": "code",
   "execution_count": 6,
   "metadata": {},
   "outputs": [],
   "source": [
    "import pandas as pd"
   ]
  },
  {
   "cell_type": "code",
   "execution_count": 8,
   "metadata": {},
   "outputs": [],
   "source": [
    "df = pd.read_csv('EXPORT82100618.csv')"
   ]
  },
  {
   "cell_type": "code",
   "execution_count": 10,
   "metadata": {},
   "outputs": [
    {
     "data": {
      "text/plain": [
       "(15290, 19)"
      ]
     },
     "execution_count": 10,
     "metadata": {},
     "output_type": "execute_result"
    }
   ],
   "source": [
    "df.shape"
   ]
  },
  {
   "cell_type": "code",
   "execution_count": 24,
   "metadata": {},
   "outputs": [
    {
     "data": {
      "text/html": [
       "<div>\n",
       "<style scoped>\n",
       "    .dataframe tbody tr th:only-of-type {\n",
       "        vertical-align: middle;\n",
       "    }\n",
       "\n",
       "    .dataframe tbody tr th {\n",
       "        vertical-align: top;\n",
       "    }\n",
       "\n",
       "    .dataframe thead th {\n",
       "        text-align: right;\n",
       "    }\n",
       "</style>\n",
       "<table border=\"1\" class=\"dataframe\">\n",
       "  <thead>\n",
       "    <tr style=\"text-align: right;\">\n",
       "      <th></th>\n",
       "      <th>Article</th>\n",
       "      <th>Article Description</th>\n",
       "      <th>Movement Type Text</th>\n",
       "      <th>Movement type</th>\n",
       "      <th>Qty in unit of entry</th>\n",
       "      <th>Reference</th>\n",
       "      <th>Entry Date</th>\n",
       "      <th>Sales Value inc. VAT</th>\n",
       "      <th>Sales Value</th>\n",
       "      <th>Document Header Text</th>\n",
       "      <th>Document Date</th>\n",
       "      <th>Order Price Unit</th>\n",
       "      <th>Qty in OPUn</th>\n",
       "      <th>Amt.in loc.cur.</th>\n",
       "      <th>Purchase order</th>\n",
       "      <th>Base Unit of Measure</th>\n",
       "      <th>Debit/Credit ind</th>\n",
       "      <th>User Name</th>\n",
       "      <th>Trans./Event Type</th>\n",
       "    </tr>\n",
       "  </thead>\n",
       "  <tbody>\n",
       "    <tr>\n",
       "      <th>0</th>\n",
       "      <td>513315</td>\n",
       "      <td>Kiehls Ultra F. S0316500 CL</td>\n",
       "      <td>GI Sales DOMESTIC</td>\n",
       "      <td>X51</td>\n",
       "      <td>-1</td>\n",
       "      <td>13607</td>\n",
       "      <td>18/06/2022</td>\n",
       "      <td>-190.00</td>\n",
       "      <td>-180.50</td>\n",
       "      <td>POS/8210</td>\n",
       "      <td>18/06/2022</td>\n",
       "      <td>NaN</td>\n",
       "      <td>0.0</td>\n",
       "      <td>-95.09</td>\n",
       "      <td>NaN</td>\n",
       "      <td>PC</td>\n",
       "      <td>H</td>\n",
       "      <td>BWREMOTE_P34</td>\n",
       "      <td>WA</td>\n",
       "    </tr>\n",
       "    <tr>\n",
       "      <th>1</th>\n",
       "      <td>1047401</td>\n",
       "      <td>L'Occi Verben 15MA075VB4 HDCR</td>\n",
       "      <td>GI Sales DOMESTIC</td>\n",
       "      <td>X51</td>\n",
       "      <td>-1</td>\n",
       "      <td>13579</td>\n",
       "      <td>18/06/2022</td>\n",
       "      <td>-185.00</td>\n",
       "      <td>-195.00</td>\n",
       "      <td>POS/8210</td>\n",
       "      <td>18/06/2022</td>\n",
       "      <td>NaN</td>\n",
       "      <td>0.0</td>\n",
       "      <td>-86.70</td>\n",
       "      <td>NaN</td>\n",
       "      <td>PC</td>\n",
       "      <td>H</td>\n",
       "      <td>BWREMOTE_P34</td>\n",
       "      <td>WA</td>\n",
       "    </tr>\n",
       "    <tr>\n",
       "      <th>2</th>\n",
       "      <td>1416524</td>\n",
       "      <td>Ritual Sakura 1106567 BOSCR</td>\n",
       "      <td>GI Sales DOMESTIC</td>\n",
       "      <td>X51</td>\n",
       "      <td>-1</td>\n",
       "      <td>23917</td>\n",
       "      <td>18/06/2022</td>\n",
       "      <td>-145.00</td>\n",
       "      <td>-116.00</td>\n",
       "      <td>POS/8210</td>\n",
       "      <td>18/06/2022</td>\n",
       "      <td>NaN</td>\n",
       "      <td>0.0</td>\n",
       "      <td>-50.82</td>\n",
       "      <td>NaN</td>\n",
       "      <td>PC</td>\n",
       "      <td>H</td>\n",
       "      <td>BWREMOTE_P34</td>\n",
       "      <td>WA</td>\n",
       "    </tr>\n",
       "    <tr>\n",
       "      <th>3</th>\n",
       "      <td>1438850</td>\n",
       "      <td>Cliniq Even Better KN0Y01 WHIT</td>\n",
       "      <td>GI Sales DOMESTIC</td>\n",
       "      <td>X51</td>\n",
       "      <td>-1</td>\n",
       "      <td>23883</td>\n",
       "      <td>18/06/2022</td>\n",
       "      <td>-710.00</td>\n",
       "      <td>-705.00</td>\n",
       "      <td>POS/8210</td>\n",
       "      <td>18/06/2022</td>\n",
       "      <td>NaN</td>\n",
       "      <td>0.0</td>\n",
       "      <td>-406.34</td>\n",
       "      <td>NaN</td>\n",
       "      <td>PC</td>\n",
       "      <td>H</td>\n",
       "      <td>BWREMOTE_P34</td>\n",
       "      <td>WA</td>\n",
       "    </tr>\n",
       "    <tr>\n",
       "      <th>4</th>\n",
       "      <td>1456803</td>\n",
       "      <td>L'Occi Rose 24MA150R19 HDCR</td>\n",
       "      <td>GI Sales DOMESTIC</td>\n",
       "      <td>X51</td>\n",
       "      <td>-1</td>\n",
       "      <td>13603</td>\n",
       "      <td>18/06/2022</td>\n",
       "      <td>-245.00</td>\n",
       "      <td>-255.00</td>\n",
       "      <td>POS/8210</td>\n",
       "      <td>18/06/2022</td>\n",
       "      <td>NaN</td>\n",
       "      <td>0.0</td>\n",
       "      <td>-114.57</td>\n",
       "      <td>NaN</td>\n",
       "      <td>PC</td>\n",
       "      <td>H</td>\n",
       "      <td>BWREMOTE_P34</td>\n",
       "      <td>WA</td>\n",
       "    </tr>\n",
       "  </tbody>\n",
       "</table>\n",
       "</div>"
      ],
      "text/plain": [
       "   Article             Article Description Movement Type Text Movement type  \\\n",
       "0   513315     Kiehls Ultra F. S0316500 CL  GI Sales DOMESTIC           X51   \n",
       "1  1047401   L'Occi Verben 15MA075VB4 HDCR  GI Sales DOMESTIC           X51   \n",
       "2  1416524     Ritual Sakura 1106567 BOSCR  GI Sales DOMESTIC           X51   \n",
       "3  1438850  Cliniq Even Better KN0Y01 WHIT  GI Sales DOMESTIC           X51   \n",
       "4  1456803     L'Occi Rose 24MA150R19 HDCR  GI Sales DOMESTIC           X51   \n",
       "\n",
       "  Qty in unit of entry Reference  Entry Date Sales Value inc. VAT Sales Value  \\\n",
       "0                   -1     13607  18/06/2022              -190.00     -180.50   \n",
       "1                   -1     13579  18/06/2022              -185.00     -195.00   \n",
       "2                   -1     23917  18/06/2022              -145.00     -116.00   \n",
       "3                   -1     23883  18/06/2022              -710.00     -705.00   \n",
       "4                   -1     13603  18/06/2022              -245.00     -255.00   \n",
       "\n",
       "  Document Header Text Document Date Order Price Unit  Qty in OPUn  \\\n",
       "0             POS/8210    18/06/2022              NaN          0.0   \n",
       "1             POS/8210    18/06/2022              NaN          0.0   \n",
       "2             POS/8210    18/06/2022              NaN          0.0   \n",
       "3             POS/8210    18/06/2022              NaN          0.0   \n",
       "4             POS/8210    18/06/2022              NaN          0.0   \n",
       "\n",
       "  Amt.in loc.cur.  Purchase order Base Unit of Measure Debit/Credit ind  \\\n",
       "0          -95.09             NaN                   PC                H   \n",
       "1          -86.70             NaN                   PC                H   \n",
       "2          -50.82             NaN                   PC                H   \n",
       "3         -406.34             NaN                   PC                H   \n",
       "4         -114.57             NaN                   PC                H   \n",
       "\n",
       "      User Name Trans./Event Type  \n",
       "0  BWREMOTE_P34                WA  \n",
       "1  BWREMOTE_P34                WA  \n",
       "2  BWREMOTE_P34                WA  \n",
       "3  BWREMOTE_P34                WA  \n",
       "4  BWREMOTE_P34                WA  "
      ]
     },
     "execution_count": 24,
     "metadata": {},
     "output_type": "execute_result"
    }
   ],
   "source": [
    "df.head()"
   ]
  },
  {
   "cell_type": "code",
   "execution_count": 26,
   "metadata": {},
   "outputs": [
    {
     "name": "stdout",
     "output_type": "stream",
     "text": [
      "<class 'pandas.core.frame.DataFrame'>\n",
      "RangeIndex: 15290 entries, 0 to 15289\n",
      "Data columns (total 19 columns):\n",
      " #   Column                Non-Null Count  Dtype  \n",
      "---  ------                --------------  -----  \n",
      " 0   Article               15290 non-null  int64  \n",
      " 1   Article Description   15290 non-null  object \n",
      " 2   Movement Type Text    15290 non-null  object \n",
      " 3   Movement type         15290 non-null  object \n",
      " 4   Qty in unit of entry  15290 non-null  object \n",
      " 5   Reference             14386 non-null  object \n",
      " 6   Entry Date            15290 non-null  object \n",
      " 7   Sales Value inc. VAT  15290 non-null  object \n",
      " 8   Sales Value           15290 non-null  object \n",
      " 9   Document Header Text  9779 non-null   object \n",
      " 10  Document Date         15290 non-null  object \n",
      " 11  Order Price Unit      5084 non-null   object \n",
      " 12  Qty in OPUn           15290 non-null  float64\n",
      " 13  Amt.in loc.cur.       15290 non-null  object \n",
      " 14  Purchase order        5084 non-null   float64\n",
      " 15  Base Unit of Measure  15290 non-null  object \n",
      " 16  Debit/Credit ind      15290 non-null  object \n",
      " 17  User Name             15290 non-null  object \n",
      " 18  Trans./Event Type     15290 non-null  object \n",
      "dtypes: float64(2), int64(1), object(16)\n",
      "memory usage: 2.2+ MB\n"
     ]
    }
   ],
   "source": [
    "df.info()"
   ]
  },
  {
   "cell_type": "code",
   "execution_count": 15,
   "metadata": {},
   "outputs": [
    {
     "name": "stdout",
     "output_type": "stream",
     "text": [
      "<class 'pandas.core.frame.DataFrame'>\n",
      "RangeIndex: 15290 entries, 0 to 15289\n",
      "Data columns (total 19 columns):\n",
      " #   Column                Non-Null Count  Dtype  \n",
      "---  ------                --------------  -----  \n",
      " 0   Article               15290 non-null  int64  \n",
      " 1   Article Description   15290 non-null  object \n",
      " 2   Movement Type Text    15290 non-null  object \n",
      " 3   Movement type         15290 non-null  object \n",
      " 4   Qty in unit of entry  15290 non-null  object \n",
      " 5   Reference             14386 non-null  object \n",
      " 6   Entry Date            15290 non-null  object \n",
      " 7   Sales Value inc. VAT  15290 non-null  object \n",
      " 8   Sales Value           15290 non-null  object \n",
      " 9   Document Header Text  9779 non-null   object \n",
      " 10  Document Date         15290 non-null  object \n",
      " 11  Order Price Unit      5084 non-null   object \n",
      " 12  Qty in OPUn           15290 non-null  float64\n",
      " 13  Amt.in loc.cur.       15290 non-null  object \n",
      " 14  Purchase order        5084 non-null   float64\n",
      " 15  Base Unit of Measure  15290 non-null  object \n",
      " 16  Debit/Credit ind      15290 non-null  object \n",
      " 17  User Name             15290 non-null  object \n",
      " 18  Trans./Event Type     15290 non-null  object \n",
      "dtypes: float64(2), int64(1), object(16)\n",
      "memory usage: 2.2+ MB\n"
     ]
    }
   ],
   "source": [
    "df.info()"
   ]
  },
  {
   "cell_type": "code",
   "execution_count": 28,
   "metadata": {},
   "outputs": [],
   "source": [
    "pd.set_option('display.max_columns',85)\n",
    "pd.set_option('display.max_rows',85)"
   ]
  },
  {
   "cell_type": "code",
   "execution_count": 30,
   "metadata": {},
   "outputs": [
    {
     "data": {
      "text/plain": [
       "Index(['Article', 'Article Description', 'Movement Type Text', 'Movement type',\n",
       "       'Qty in unit of entry', 'Reference', 'Entry Date',\n",
       "       'Sales Value inc. VAT', 'Sales Value', 'Document Header Text',\n",
       "       'Document Date', 'Order Price Unit', 'Qty in OPUn', 'Amt.in loc.cur.',\n",
       "       'Purchase order', 'Base Unit of Measure', 'Debit/Credit ind',\n",
       "       'User Name', 'Trans./Event Type'],\n",
       "      dtype='object')"
      ]
     },
     "execution_count": 30,
     "metadata": {},
     "output_type": "execute_result"
    }
   ],
   "source": [
    "df.columns"
   ]
  },
  {
   "cell_type": "code",
   "execution_count": 31,
   "metadata": {},
   "outputs": [
    {
     "data": {
      "text/plain": [
       "0    GI Sales DOMESTIC\n",
       "1    GI Sales DOMESTIC\n",
       "Name: Movement Type Text, dtype: object"
      ]
     },
     "execution_count": 31,
     "metadata": {},
     "output_type": "execute_result"
    }
   ],
   "source": [
    "df.iloc[[0,1],2]"
   ]
  },
  {
   "cell_type": "code",
   "execution_count": 42,
   "metadata": {},
   "outputs": [
    {
     "data": {
      "text/html": [
       "<div>\n",
       "<style scoped>\n",
       "    .dataframe tbody tr th:only-of-type {\n",
       "        vertical-align: middle;\n",
       "    }\n",
       "\n",
       "    .dataframe tbody tr th {\n",
       "        vertical-align: top;\n",
       "    }\n",
       "\n",
       "    .dataframe thead th {\n",
       "        text-align: right;\n",
       "    }\n",
       "</style>\n",
       "<table border=\"1\" class=\"dataframe\">\n",
       "  <thead>\n",
       "    <tr style=\"text-align: right;\">\n",
       "      <th></th>\n",
       "      <th>Article</th>\n",
       "      <th>Article Description</th>\n",
       "      <th>Movement Type Text</th>\n",
       "      <th>Entry Date</th>\n",
       "    </tr>\n",
       "  </thead>\n",
       "  <tbody>\n",
       "    <tr>\n",
       "      <th>0</th>\n",
       "      <td>513315</td>\n",
       "      <td>Kiehls Ultra F. S0316500 CL</td>\n",
       "      <td>GI Sales DOMESTIC</td>\n",
       "      <td>18/06/2022</td>\n",
       "    </tr>\n",
       "    <tr>\n",
       "      <th>5</th>\n",
       "      <td>1471331</td>\n",
       "      <td>Ritual Ayurveda 1107157 HOME</td>\n",
       "      <td>GI Sales DOMESTIC</td>\n",
       "      <td>18/06/2022</td>\n",
       "    </tr>\n",
       "  </tbody>\n",
       "</table>\n",
       "</div>"
      ],
      "text/plain": [
       "   Article           Article Description Movement Type Text  Entry Date\n",
       "0   513315   Kiehls Ultra F. S0316500 CL  GI Sales DOMESTIC  18/06/2022\n",
       "5  1471331  Ritual Ayurveda 1107157 HOME  GI Sales DOMESTIC  18/06/2022"
      ]
     },
     "execution_count": 42,
     "metadata": {},
     "output_type": "execute_result"
    }
   ],
   "source": [
    "df.loc[[0,5],[\"Article\",\"Article Description\",\"Movement Type Text\",\"Entry Date\"]]"
   ]
  },
  {
   "cell_type": "code",
   "execution_count": 44,
   "metadata": {},
   "outputs": [
    {
     "data": {
      "text/plain": [
       "GI Sales DOMESTIC       5310\n",
       "GI Sales without ED     3727\n",
       "GR goods receipt        3540\n",
       "GR for acct assgmnt     1484\n",
       "GI for cost center       206\n",
       "blocked to unrestr.      154\n",
       "unrestr. to blocked      140\n",
       "RE Sales Non-EU          134\n",
       "RE Sales DOMESTIC        131\n",
       "TF trfr plnt to plnt      91\n",
       "scrap Shop to WH          87\n",
       "RE for cost center        81\n",
       "GR phys.inv.: whse        77\n",
       "GI phys.inv.: whse        66\n",
       "GR for PO   reversal      60\n",
       "TF tfr ps.mat.to mat       2\n",
       "Name: Movement Type Text, dtype: int64"
      ]
     },
     "execution_count": 44,
     "metadata": {},
     "output_type": "execute_result"
    }
   ],
   "source": [
    "df[\"Movement Type Text\"].value_counts()"
   ]
  },
  {
   "cell_type": "code",
   "execution_count": 55,
   "metadata": {},
   "outputs": [
    {
     "data": {
      "text/html": [
       "<div>\n",
       "<style scoped>\n",
       "    .dataframe tbody tr th:only-of-type {\n",
       "        vertical-align: middle;\n",
       "    }\n",
       "\n",
       "    .dataframe tbody tr th {\n",
       "        vertical-align: top;\n",
       "    }\n",
       "\n",
       "    .dataframe thead th {\n",
       "        text-align: right;\n",
       "    }\n",
       "</style>\n",
       "<table border=\"1\" class=\"dataframe\">\n",
       "  <thead>\n",
       "    <tr style=\"text-align: right;\">\n",
       "      <th></th>\n",
       "      <th>Movement type</th>\n",
       "      <th>Qty in unit of entry</th>\n",
       "      <th>Reference</th>\n",
       "      <th>Entry Date</th>\n",
       "    </tr>\n",
       "  </thead>\n",
       "  <tbody>\n",
       "    <tr>\n",
       "      <th>0</th>\n",
       "      <td>X51</td>\n",
       "      <td>-1</td>\n",
       "      <td>13607</td>\n",
       "      <td>18/06/2022</td>\n",
       "    </tr>\n",
       "    <tr>\n",
       "      <th>1</th>\n",
       "      <td>X51</td>\n",
       "      <td>-1</td>\n",
       "      <td>13579</td>\n",
       "      <td>18/06/2022</td>\n",
       "    </tr>\n",
       "    <tr>\n",
       "      <th>2</th>\n",
       "      <td>X51</td>\n",
       "      <td>-1</td>\n",
       "      <td>23917</td>\n",
       "      <td>18/06/2022</td>\n",
       "    </tr>\n",
       "    <tr>\n",
       "      <th>3</th>\n",
       "      <td>X51</td>\n",
       "      <td>-1</td>\n",
       "      <td>23883</td>\n",
       "      <td>18/06/2022</td>\n",
       "    </tr>\n",
       "    <tr>\n",
       "      <th>4</th>\n",
       "      <td>X51</td>\n",
       "      <td>-1</td>\n",
       "      <td>13603</td>\n",
       "      <td>18/06/2022</td>\n",
       "    </tr>\n",
       "    <tr>\n",
       "      <th>...</th>\n",
       "      <td>...</td>\n",
       "      <td>...</td>\n",
       "      <td>...</td>\n",
       "      <td>...</td>\n",
       "    </tr>\n",
       "    <tr>\n",
       "      <th>96</th>\n",
       "      <td>X51</td>\n",
       "      <td>-1</td>\n",
       "      <td>23643</td>\n",
       "      <td>15/06/2022</td>\n",
       "    </tr>\n",
       "    <tr>\n",
       "      <th>97</th>\n",
       "      <td>X51</td>\n",
       "      <td>-1</td>\n",
       "      <td>23643</td>\n",
       "      <td>15/06/2022</td>\n",
       "    </tr>\n",
       "    <tr>\n",
       "      <th>98</th>\n",
       "      <td>X51</td>\n",
       "      <td>-1</td>\n",
       "      <td>23611</td>\n",
       "      <td>15/06/2022</td>\n",
       "    </tr>\n",
       "    <tr>\n",
       "      <th>99</th>\n",
       "      <td>X51</td>\n",
       "      <td>-1</td>\n",
       "      <td>23657</td>\n",
       "      <td>15/06/2022</td>\n",
       "    </tr>\n",
       "    <tr>\n",
       "      <th>100</th>\n",
       "      <td>X51</td>\n",
       "      <td>-1</td>\n",
       "      <td>23611</td>\n",
       "      <td>15/06/2022</td>\n",
       "    </tr>\n",
       "  </tbody>\n",
       "</table>\n",
       "<p>101 rows × 4 columns</p>\n",
       "</div>"
      ],
      "text/plain": [
       "    Movement type Qty in unit of entry Reference  Entry Date\n",
       "0             X51                   -1     13607  18/06/2022\n",
       "1             X51                   -1     13579  18/06/2022\n",
       "2             X51                   -1     23917  18/06/2022\n",
       "3             X51                   -1     23883  18/06/2022\n",
       "4             X51                   -1     13603  18/06/2022\n",
       "..            ...                  ...       ...         ...\n",
       "96            X51                   -1     23643  15/06/2022\n",
       "97            X51                   -1     23643  15/06/2022\n",
       "98            X51                   -1     23611  15/06/2022\n",
       "99            X51                   -1     23657  15/06/2022\n",
       "100           X51                   -1     23611  15/06/2022\n",
       "\n",
       "[101 rows x 4 columns]"
      ]
     },
     "execution_count": 55,
     "metadata": {},
     "output_type": "execute_result"
    }
   ],
   "source": [
    "df.loc[0:100,\"Movement type\":\"Entry Date\"]"
   ]
  },
  {
   "cell_type": "code",
   "execution_count": 59,
   "metadata": {},
   "outputs": [],
   "source": [
    "new_df = df.set_index(\"Movement Type Text\",inplace=True)"
   ]
  },
  {
   "cell_type": "code",
   "execution_count": 64,
   "metadata": {},
   "outputs": [
    {
     "data": {
      "text/plain": [
       "Index(['GI Sales DOMESTIC', 'GI Sales DOMESTIC', 'GI Sales DOMESTIC',\n",
       "       'GI Sales DOMESTIC', 'GI Sales DOMESTIC', 'GI Sales DOMESTIC',\n",
       "       'GI Sales DOMESTIC', 'GI Sales DOMESTIC', 'GI Sales DOMESTIC',\n",
       "       'GI Sales DOMESTIC',\n",
       "       ...\n",
       "       'GR goods receipt', 'GR goods receipt', 'GR goods receipt',\n",
       "       'GR goods receipt', 'GR goods receipt', 'GR goods receipt',\n",
       "       'GR for acct assgmnt', 'GR for acct assgmnt', 'GR for acct assgmnt',\n",
       "       'GR for acct assgmnt'],\n",
       "      dtype='object', name='Movement Type Text', length=15290)"
      ]
     },
     "execution_count": 64,
     "metadata": {},
     "output_type": "execute_result"
    }
   ],
   "source": [
    "df.index"
   ]
  },
  {
   "cell_type": "code",
   "execution_count": 65,
   "metadata": {},
   "outputs": [
    {
     "ename": "ModuleNotFoundError",
     "evalue": "No module named 'session_info'",
     "output_type": "error",
     "traceback": [
      "\u001b[0;31m---------------------------------------------------------------------------\u001b[0m",
      "\u001b[0;31mModuleNotFoundError\u001b[0m                       Traceback (most recent call last)",
      "\u001b[0;32m<ipython-input-65-bc965d5b3462>\u001b[0m in \u001b[0;36m<module>\u001b[0;34m\u001b[0m\n\u001b[0;32m----> 1\u001b[0;31m \u001b[0;32mimport\u001b[0m \u001b[0msession_info\u001b[0m\u001b[0;34m\u001b[0m\u001b[0;34m\u001b[0m\u001b[0m\n\u001b[0m",
      "\u001b[0;31mModuleNotFoundError\u001b[0m: No module named 'session_info'"
     ]
    }
   ],
   "source": [
    "import session_info\n"
   ]
  },
  {
   "cell_type": "code",
   "execution_count": null,
   "metadata": {},
   "outputs": [],
   "source": []
  }
 ],
 "metadata": {
  "kernelspec": {
   "display_name": "Python 3",
   "language": "python",
   "name": "python3"
  },
  "language_info": {
   "codemirror_mode": {
    "name": "ipython",
    "version": 3
   },
   "file_extension": ".py",
   "mimetype": "text/x-python",
   "name": "python",
   "nbconvert_exporter": "python",
   "pygments_lexer": "ipython3",
   "version": "3.7.6"
  }
 },
 "nbformat": 4,
 "nbformat_minor": 4
}
